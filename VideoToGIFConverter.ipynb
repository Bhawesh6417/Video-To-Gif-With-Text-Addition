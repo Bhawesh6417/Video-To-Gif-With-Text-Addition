{
  "cells": [
    {
      "cell_type": "code",
      "execution_count": 10,
      "metadata": {
        "colab": {
          "base_uri": "https://localhost:8080/"
        },
        "id": "xK_FWdZloqQW",
        "outputId": "9271dc5b-c495-465a-efce-2e8a0bc59582"
      },
      "outputs": [
        {
          "name": "stdout",
          "output_type": "stream",
          "text": [
            "Requirement already satisfied: streamlit in c:\\users\\bhawesh\\appdata\\local\\programs\\python\\python312\\lib\\site-packages (1.34.0)Note: you may need to restart the kernel to use updated packages.\n",
            "\n",
            "Requirement already satisfied: altair<6,>=4.0 in c:\\users\\bhawesh\\appdata\\local\\programs\\python\\python312\\lib\\site-packages (from streamlit) (5.3.0)\n",
            "Requirement already satisfied: blinker<2,>=1.0.0 in c:\\users\\bhawesh\\appdata\\local\\programs\\python\\python312\\lib\\site-packages (from streamlit) (1.8.2)\n",
            "Requirement already satisfied: cachetools<6,>=4.0 in c:\\users\\bhawesh\\appdata\\local\\programs\\python\\python312\\lib\\site-packages (from streamlit) (5.3.3)\n",
            "Requirement already satisfied: click<9,>=7.0 in c:\\users\\bhawesh\\appdata\\local\\programs\\python\\python312\\lib\\site-packages (from streamlit) (8.1.7)\n",
            "Requirement already satisfied: numpy<2,>=1.19.3 in c:\\users\\bhawesh\\appdata\\local\\programs\\python\\python312\\lib\\site-packages (from streamlit) (1.26.4)\n",
            "Requirement already satisfied: packaging<25,>=16.8 in c:\\users\\bhawesh\\appdata\\local\\programs\\python\\python312\\lib\\site-packages (from streamlit) (23.2)\n",
            "Requirement already satisfied: pandas<3,>=1.3.0 in c:\\users\\bhawesh\\appdata\\local\\programs\\python\\python312\\lib\\site-packages (from streamlit) (2.2.2)\n",
            "Requirement already satisfied: pillow<11,>=7.1.0 in c:\\users\\bhawesh\\appdata\\local\\programs\\python\\python312\\lib\\site-packages (from streamlit) (10.3.0)\n",
            "Requirement already satisfied: protobuf<5,>=3.20 in c:\\users\\bhawesh\\appdata\\local\\programs\\python\\python312\\lib\\site-packages (from streamlit) (4.25.3)\n",
            "Requirement already satisfied: pyarrow>=7.0 in c:\\users\\bhawesh\\appdata\\local\\programs\\python\\python312\\lib\\site-packages (from streamlit) (16.0.0)\n",
            "Requirement already satisfied: requests<3,>=2.27 in c:\\users\\bhawesh\\appdata\\local\\programs\\python\\python312\\lib\\site-packages (from streamlit) (2.31.0)\n",
            "Requirement already satisfied: rich<14,>=10.14.0 in c:\\users\\bhawesh\\appdata\\local\\programs\\python\\python312\\lib\\site-packages (from streamlit) (13.7.1)\n",
            "Requirement already satisfied: tenacity<9,>=8.1.0 in c:\\users\\bhawesh\\appdata\\local\\programs\\python\\python312\\lib\\site-packages (from streamlit) (8.2.3)\n",
            "Requirement already satisfied: toml<2,>=0.10.1 in c:\\users\\bhawesh\\appdata\\local\\programs\\python\\python312\\lib\\site-packages (from streamlit) (0.10.2)\n",
            "Requirement already satisfied: typing-extensions<5,>=4.3.0 in c:\\users\\bhawesh\\appdata\\local\\programs\\python\\python312\\lib\\site-packages (from streamlit) (4.11.0)\n",
            "Requirement already satisfied: gitpython!=3.1.19,<4,>=3.0.7 in c:\\users\\bhawesh\\appdata\\local\\programs\\python\\python312\\lib\\site-packages (from streamlit) (3.1.43)\n",
            "Requirement already satisfied: pydeck<1,>=0.8.0b4 in c:\\users\\bhawesh\\appdata\\local\\programs\\python\\python312\\lib\\site-packages (from streamlit) (0.9.0)\n",
            "Requirement already satisfied: tornado<7,>=6.0.3 in c:\\users\\bhawesh\\appdata\\local\\programs\\python\\python312\\lib\\site-packages (from streamlit) (6.4)\n",
            "Requirement already satisfied: watchdog>=2.1.5 in c:\\users\\bhawesh\\appdata\\local\\programs\\python\\python312\\lib\\site-packages (from streamlit) (4.0.0)\n",
            "Requirement already satisfied: jinja2 in c:\\users\\bhawesh\\appdata\\local\\programs\\python\\python312\\lib\\site-packages (from altair<6,>=4.0->streamlit) (3.1.3)\n",
            "Requirement already satisfied: jsonschema>=3.0 in c:\\users\\bhawesh\\appdata\\local\\programs\\python\\python312\\lib\\site-packages (from altair<6,>=4.0->streamlit) (4.22.0)\n",
            "Requirement already satisfied: toolz in c:\\users\\bhawesh\\appdata\\local\\programs\\python\\python312\\lib\\site-packages (from altair<6,>=4.0->streamlit) (0.12.1)\n",
            "Requirement already satisfied: colorama in c:\\users\\bhawesh\\appdata\\local\\programs\\python\\python312\\lib\\site-packages (from click<9,>=7.0->streamlit) (0.4.6)\n",
            "Requirement already satisfied: gitdb<5,>=4.0.1 in c:\\users\\bhawesh\\appdata\\local\\programs\\python\\python312\\lib\\site-packages (from gitpython!=3.1.19,<4,>=3.0.7->streamlit) (4.0.11)\n",
            "Requirement already satisfied: python-dateutil>=2.8.2 in c:\\users\\bhawesh\\appdata\\local\\programs\\python\\python312\\lib\\site-packages (from pandas<3,>=1.3.0->streamlit) (2.9.0.post0)\n",
            "Requirement already satisfied: pytz>=2020.1 in c:\\users\\bhawesh\\appdata\\local\\programs\\python\\python312\\lib\\site-packages (from pandas<3,>=1.3.0->streamlit) (2024.1)\n",
            "Requirement already satisfied: tzdata>=2022.7 in c:\\users\\bhawesh\\appdata\\local\\programs\\python\\python312\\lib\\site-packages (from pandas<3,>=1.3.0->streamlit) (2024.1)\n",
            "Requirement already satisfied: charset-normalizer<4,>=2 in c:\\users\\bhawesh\\appdata\\local\\programs\\python\\python312\\lib\\site-packages (from requests<3,>=2.27->streamlit) (3.3.2)\n",
            "Requirement already satisfied: idna<4,>=2.5 in c:\\users\\bhawesh\\appdata\\local\\programs\\python\\python312\\lib\\site-packages (from requests<3,>=2.27->streamlit) (2.10)\n",
            "Requirement already satisfied: urllib3<3,>=1.21.1 in c:\\users\\bhawesh\\appdata\\local\\programs\\python\\python312\\lib\\site-packages (from requests<3,>=2.27->streamlit) (2.2.1)\n",
            "Requirement already satisfied: certifi>=2017.4.17 in c:\\users\\bhawesh\\appdata\\local\\programs\\python\\python312\\lib\\site-packages (from requests<3,>=2.27->streamlit) (2024.2.2)\n",
            "Requirement already satisfied: markdown-it-py>=2.2.0 in c:\\users\\bhawesh\\appdata\\local\\programs\\python\\python312\\lib\\site-packages (from rich<14,>=10.14.0->streamlit) (3.0.0)\n",
            "Requirement already satisfied: pygments<3.0.0,>=2.13.0 in c:\\users\\bhawesh\\appdata\\local\\programs\\python\\python312\\lib\\site-packages (from rich<14,>=10.14.0->streamlit) (2.18.0)\n",
            "Requirement already satisfied: smmap<6,>=3.0.1 in c:\\users\\bhawesh\\appdata\\local\\programs\\python\\python312\\lib\\site-packages (from gitdb<5,>=4.0.1->gitpython!=3.1.19,<4,>=3.0.7->streamlit) (5.0.1)\n",
            "Requirement already satisfied: MarkupSafe>=2.0 in c:\\users\\bhawesh\\appdata\\local\\programs\\python\\python312\\lib\\site-packages (from jinja2->altair<6,>=4.0->streamlit) (2.1.5)\n",
            "Requirement already satisfied: attrs>=22.2.0 in c:\\users\\bhawesh\\appdata\\local\\programs\\python\\python312\\lib\\site-packages (from jsonschema>=3.0->altair<6,>=4.0->streamlit) (23.2.0)\n",
            "Requirement already satisfied: jsonschema-specifications>=2023.03.6 in c:\\users\\bhawesh\\appdata\\local\\programs\\python\\python312\\lib\\site-packages (from jsonschema>=3.0->altair<6,>=4.0->streamlit) (2023.12.1)\n",
            "Requirement already satisfied: referencing>=0.28.4 in c:\\users\\bhawesh\\appdata\\local\\programs\\python\\python312\\lib\\site-packages (from jsonschema>=3.0->altair<6,>=4.0->streamlit) (0.35.1)\n",
            "Requirement already satisfied: rpds-py>=0.7.1 in c:\\users\\bhawesh\\appdata\\local\\programs\\python\\python312\\lib\\site-packages (from jsonschema>=3.0->altair<6,>=4.0->streamlit) (0.18.1)\n",
            "Requirement already satisfied: mdurl~=0.1 in c:\\users\\bhawesh\\appdata\\local\\programs\\python\\python312\\lib\\site-packages (from markdown-it-py>=2.2.0->rich<14,>=10.14.0->streamlit) (0.1.2)\n",
            "Requirement already satisfied: six>=1.5 in c:\\users\\bhawesh\\appdata\\local\\programs\\python\\python312\\lib\\site-packages (from python-dateutil>=2.8.2->pandas<3,>=1.3.0->streamlit) (1.16.0)\n"
          ]
        }
      ],
      "source": [
        "pip install streamlit"
      ]
    },
    {
      "cell_type": "code",
      "execution_count": 15,
      "metadata": {
        "colab": {
          "base_uri": "https://localhost:8080/"
        },
        "id": "Sm1_i0YKomMs",
        "outputId": "ca2298c5-a6b6-409d-f496-a21cab24709c"
      },
      "outputs": [
        {
          "name": "stdout",
          "output_type": "stream",
          "text": [
            "Overwriting app.py\n"
          ]
        }
      ],
      "source": [
        "%%writefile app.py\n",
        "import os\n",
        "import streamlit as st\n",
        "from moviepy.editor import *\n",
        "\n",
        "\n",
        "class VideoToGifConverter:\n",
        "    def __init__(self):\n",
        "        st.title(\"AUTOMATIC VIDEO To GIF CONVERTER\")\n",
        "        self.cwd = os.getcwd()\n",
        "        self.start_time = 0\n",
        "        self.end_time = 0\n",
        "\n",
        "    def _convert_gif(self, video):\n",
        "        self.convert_gif = VideoFileClip(os.path.join(self.cwd, video))\n",
        "        self.convert_gif.write_gif(\"input.gif\")\n",
        "        st.success(\"Converted to Gif..\")\n",
        "\n",
        "    def upload_video(self):\n",
        "        st.sidebar.subheader(\"Upload video\")\n",
        "        self.video_file = st.sidebar.file_uploader(\n",
        "            \"select video file to upload\", type=\"mp4\"\n",
        "        )\n",
        "        if self.video_file is not None:\n",
        "            # save video as mp4\n",
        "            with open(self.video_file.name, \"wb\") as video_file:\n",
        "                video_file.write(self.video_file.getvalue())\n",
        "            st.subheader(\"Original video\")\n",
        "            st.video(self.video_file.getvalue(), format=\"video/mp4\", start_time=0)\n",
        "\n",
        "    def trim_video(self):\n",
        "        if self.video_file is not None:\n",
        "            self.start_time = st.sidebar.number_input(\n",
        "                \"Stat time in seconds\", min_value=0, step=1\n",
        "            )\n",
        "            self.end_time = st.sidebar.number_input(\n",
        "                \"End time in seconds\", min_value=0, step=1\n",
        "            )\n",
        "            is_trim = st.sidebar.button(\"Trim video\")\n",
        "            if is_trim:\n",
        "                # Trim and save video as mp4\n",
        "                self.trimed_video = VideoFileClip(\n",
        "                    os.path.join(self.cwd, self.video_file.name)\n",
        "                ).subclip(self.start_time, self.end_time)\n",
        "                self.trimed_video.write_videofile(\"Trimed \" + self.video_file.name)\n",
        "                st.success(\"Video Trimed.\")\n",
        "\n",
        "    def convert_to_gif(self):\n",
        "        if self.video_file is not None:\n",
        "            is_gif = st.sidebar.button(\"Convert to Gif\")\n",
        "            if is_gif:\n",
        "                # video to gif conversion\n",
        "                try:\n",
        "                    self._convert_gif(\"Trimed \" + self.video_file.name)\n",
        "                except Exception as e:\n",
        "                    self._convert_gif(self.video_file.name)\n",
        "                st.success(\n",
        "                    f'Gif file stored on - {os.path.join(self.cwd,\"input.gif\")}'\n",
        "                )\n",
        "\n",
        "                # Remove video files\n",
        "                try:\n",
        "                    os.remove(os.path.join(self.cwd, \"Trimed \" + self.video_file.name))\n",
        "                    os.remove(os.path.join(self.cwd, self.video_file.name))\n",
        "                except Exception as e:\n",
        "                    os.remove(os.path.join(self.cwd, self.video_file.name))\n",
        "\n",
        "\n",
        "if __name__ == \"__main__\":\n",
        "    editor = VideoToGifConverter()\n",
        "    editor.upload_video()\n",
        "    editor.trim_video()\n",
        "    editor.convert_to_gif()"
      ]
    },
    {
      "cell_type": "markdown",
      "metadata": {
        "id": "3hIWjdEx4usy"
      },
      "source": [
        "# **For the execution of the given code first run the given code then \"!wget -q -O - ipv4.icanhazip.com\" will generate a address which can be used as the token passcode for streamlite access.**\n"
      ]
    },
    {
      "cell_type": "code",
      "execution_count": 4,
      "metadata": {
        "colab": {
          "base_uri": "https://localhost:8080/"
        },
        "id": "cG9q7ZNuxUiU",
        "outputId": "d8696b57-7611-4512-98d9-5509d225f13a"
      },
      "outputs": [
        {
          "name": "stderr",
          "output_type": "stream",
          "text": [
            "'wget' is not recognized as an internal or external command,\n",
            "operable program or batch file.\n"
          ]
        }
      ],
      "source": [
        "!wget -q -O - ipv4.icanhazip.com"
      ]
    },
    {
      "cell_type": "markdown",
      "metadata": {
        "id": "ErJ31wMu6cLo"
      },
      "source": [
        "# **For good and faster execution and working of the code I had added the trim method that can be perfectly utilized for the purpose of sorting the video for gif conversion so that it is easy and faster to use. I would recommmend to use that accordingly.**\n",
        "\n",
        "\n",
        "\n"
      ]
    },
    {
      "cell_type": "code",
      "execution_count": 14,
      "metadata": {
        "colab": {
          "base_uri": "https://localhost:8080/"
        },
        "id": "jAadW7MZp_ef",
        "outputId": "71429b11-ff23-49cb-8494-a27a1db21ec4"
      },
      "outputs": [
        {
          "name": "stdout",
          "output_type": "stream",
          "text": [
            "^C\n"
          ]
        }
      ],
      "source": [
        "! streamlit run app.py & npx localtunnel --port 8501"
      ]
    }
  ],
  "metadata": {
    "colab": {
      "provenance": []
    },
    "kernelspec": {
      "display_name": "Python 3",
      "name": "python3"
    },
    "language_info": {
      "codemirror_mode": {
        "name": "ipython",
        "version": 3
      },
      "file_extension": ".py",
      "mimetype": "text/x-python",
      "name": "python",
      "nbconvert_exporter": "python",
      "pygments_lexer": "ipython3",
      "version": "3.12.3"
    }
  },
  "nbformat": 4,
  "nbformat_minor": 0
}
